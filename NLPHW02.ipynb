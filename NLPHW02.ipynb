{
  "nbformat": 4,
  "nbformat_minor": 0,
  "metadata": {
    "colab": {
      "name": "NLPHW02.ipynb",
      "provenance": [],
      "collapsed_sections": [],
      "authorship_tag": "ABX9TyMfCrPkCuOgLleefxZ2DT9G",
      "include_colab_link": true
    },
    "kernelspec": {
      "name": "python3",
      "display_name": "Python 3"
    },
    "language_info": {
      "name": "python"
    }
  },
  "cells": [
    {
      "cell_type": "markdown",
      "metadata": {
        "id": "view-in-github",
        "colab_type": "text"
      },
      "source": [
        "<a href=\"https://colab.research.google.com/github/james330/NLPHW02/blob/main/NLPHW02.ipynb\" target=\"_parent\"><img src=\"https://colab.research.google.com/assets/colab-badge.svg\" alt=\"Open In Colab\"/></a>"
      ]
    },
    {
      "cell_type": "code",
      "metadata": {
        "id": "BvzSFdWGyrCS",
        "colab": {
          "base_uri": "https://localhost:8080/"
        },
        "outputId": "c52c1a11-8ed3-4ee2-bf42-a9a77020056f"
      },
      "source": [
        "# 下載網頁\n",
        "import urllib.request as req\n",
        "url = \"https://movies.yahoo.com.tw/index.html\"\n",
        "req.urlretrieve(url, './data/yahoo_index.csv')"
      ],
      "execution_count": 3,
      "outputs": [
        {
          "output_type": "execute_result",
          "data": {
            "text/plain": [
              "('./data/yahoo_index.csv', <http.client.HTTPMessage at 0x7f4ed34febd0>)"
            ]
          },
          "metadata": {
            "tags": []
          },
          "execution_count": 3
        }
      ]
    },
    {
      "cell_type": "code",
      "metadata": {
        "id": "CNhJZrSVkjQU"
      },
      "source": [
        "# 解析內容(1)\n",
        "with req.urlopen(url) as response:\n",
        "  data = response.read().decode(\"utf-8\")\n",
        "\n",
        "print(data)"
      ],
      "execution_count": null,
      "outputs": []
    },
    {
      "cell_type": "code",
      "metadata": {
        "id": "kOR1dKlmjK-9"
      },
      "source": [
        "# 找 movieinfo_main 電影連結\n",
        "# 一個Array放未尋訪\n",
        "# 一個Array放已尋訪\n",
        "# 已尋訪的資料中，要有電影名稱、分類、劇情介紹、上映日期\n",
        "# 分類要保留排序\n",
        "\n",
        "# 電影名稱:<title>XXXX - Yahoo奇摩電影</title>\n",
        "# 分類:['電影介紹','電影介紹_類型icon','XX']\n",
        "# 劇情介紹:<span id='story'>XXX</p></span>\n",
        "# 上映日期:<span>上映日期：XXXX</span>\n",
        "\n"
      ],
      "execution_count": 8,
      "outputs": []
    }
  ]
}