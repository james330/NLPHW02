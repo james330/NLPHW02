{
  "nbformat": 4,
  "nbformat_minor": 0,
  "metadata": {
    "colab": {
      "name": "NLPHW02.ipynb",
      "provenance": [],
      "collapsed_sections": [],
      "authorship_tag": "ABX9TyOGOn3p9YKVX53QCPsAzgr0",
      "include_colab_link": true
    },
    "kernelspec": {
      "name": "python3",
      "display_name": "Python 3"
    },
    "language_info": {
      "name": "python"
    }
  },
  "cells": [
    {
      "cell_type": "markdown",
      "metadata": {
        "id": "view-in-github",
        "colab_type": "text"
      },
      "source": [
        "<a href=\"https://colab.research.google.com/github/james330/NLPHW02/blob/main/NLPHW02.ipynb\" target=\"_parent\"><img src=\"https://colab.research.google.com/assets/colab-badge.svg\" alt=\"Open In Colab\"/></a>"
      ]
    },
    {
      "cell_type": "code",
      "metadata": {
        "colab": {
          "base_uri": "https://localhost:8080/"
        },
        "id": "AFVXShNTtJuW",
        "outputId": "6c3a3a6e-f573-4f17-ee4d-f60c4fd35de1"
      },
      "source": [
        "pip install beautifulsoup4"
      ],
      "execution_count": null,
      "outputs": [
        {
          "output_type": "stream",
          "text": [
            "Requirement already satisfied: beautifulsoup4 in /usr/local/lib/python3.7/dist-packages (4.6.3)\n"
          ],
          "name": "stdout"
        }
      ]
    },
    {
      "cell_type": "code",
      "metadata": {
        "id": "BvzSFdWGyrCS",
        "colab": {
          "base_uri": "https://localhost:8080/"
        },
        "outputId": "93b6b145-fcfe-4ad8-b519-0de3fef5baef"
      },
      "source": [
        "# 下載網頁\n",
        "import urllib.request as req\n",
        "url = \"https://movies.yahoo.com.tw/index.html\"\n",
        "req.urlretrieve(url, './data/yahoo_index.csv')"
      ],
      "execution_count": null,
      "outputs": [
        {
          "output_type": "execute_result",
          "data": {
            "text/plain": [
              "('./data/yahoo_index.csv', <http.client.HTTPMessage at 0x7fb370089790>)"
            ]
          },
          "metadata": {
            "tags": []
          },
          "execution_count": 3
        }
      ]
    },
    {
      "cell_type": "code",
      "metadata": {
        "id": "CNhJZrSVkjQU"
      },
      "source": [
        "# 解析內容(1)\n",
        "with req.urlopen(url) as response:\n",
        "  data = response.read().decode(\"utf-8\")\n"
      ],
      "execution_count": null,
      "outputs": []
    },
    {
      "cell_type": "code",
      "metadata": {
        "colab": {
          "base_uri": "https://localhost:8080/"
        },
        "id": "WZjF0YWctC4I",
        "outputId": "521616ed-1518-4dce-ad24-7be32407f4c5"
      },
      "source": [
        "# 解析內容(2)(首頁 找電影的 url)\n",
        "import bs4\n",
        "root = bs4.BeautifulSoup(data ,\"html.parser\")\n",
        "titles = root.find_all(\"ul\" ,class_ = \"ranking_list_r\")\n",
        "par = []\n",
        "for title in titles:\n",
        "    par.append(str(title))\n",
        "\n",
        "i = 0\n",
        "pp = ''\n",
        "pa = []\n",
        "for p in par[0]:\n",
        "  if p == ':':\n",
        "    i += 1\n",
        "\n",
        "  if p == '\"':\n",
        "    i *= 0\n",
        "    if pp != '':\n",
        "      pa.append(pp)\n",
        "      pp = ''\n",
        "\n",
        "  if i == 1:\n",
        "    pp += p\n",
        "\n",
        "j = 0\n",
        "while j < len(pa):\n",
        "  print(j+1 ,'https'+pa[j] ,'\\n')\n",
        "  j += 1"
      ],
      "execution_count": 37,
      "outputs": [
        {
          "output_type": "stream",
          "text": [
            "1 https://movies.yahoo.com.tw/movieinfo_main/%E8%87%AA%E6%AE%BA%E7%AA%81%E6%93%8A%E9%9A%8A-%E9%9B%86%E7%B5%90-the-suicide-squad-11328 \n",
            "\n",
            "2 https://movies.yahoo.com.tw/movieinfo_main/%E9%BB%91%E5%AF%A1%E5%A9%A6-black-widow-10397 \n",
            "\n",
            "3 https://movies.yahoo.com.tw/movieinfo_main/%E5%8F%A2%E6%9E%97%E5%A5%87%E8%88%AA-jungle-cruise-10315 \n",
            "\n",
            "4 https://movies.yahoo.com.tw/movieinfo_main/%E8%B7%AF%E5%8D%A1%E7%9A%84%E5%A4%8F%E5%A4%A9-luca-11268 \n",
            "\n",
            "5 https://movies.yahoo.com.tw/movieinfo_main/%E5%8E%B2%E9%99%B0%E5%AE%853-%E6%98%AF%E6%83%A1%E9%AD%94%E9%80%BC%E6%88%91%E7%9A%84-the-conjuring-the-devil-made-me-do-it-11376 \n",
            "\n",
            "6 https://movies.yahoo.com.tw/movieinfo_main/%E8%A9%AD%E8%80%81-old-11409 \n",
            "\n",
            "7 https://movies.yahoo.com.tw/movieinfo_main/%E8%96%84%E8%8D%B7%E7%B3%96-peppermint-candy-11368 \n",
            "\n",
            "8 https://movies.yahoo.com.tw/movieinfo_main/%E9%A9%85%E9%AD%94%E7%A6%81%E5%8D%80-demonic-11439 \n",
            "\n",
            "9 https://movies.yahoo.com.tw/movieinfo_main/%E4%BA%BA%E8%81%B2-the-human-voice-11400 \n",
            "\n"
          ],
          "name": "stdout"
        }
      ]
    },
    {
      "cell_type": "code",
      "metadata": {
        "id": "kOR1dKlmjK-9"
      },
      "source": [
        "# 找 movieinfo_main 電影連結\n",
        "# 一個Array放未尋訪\n",
        "# 一個Array放已尋訪\n",
        "# 已尋訪的資料中，要有電影名稱、分類、劇情介紹、上映日期\n",
        "# 分類要保留排序\n",
        "\n",
        "# 電影名稱:<title>XXXX - Yahoo奇摩電影</title>\n",
        "# 分類:['電影介紹','電影介紹_類型icon','XX']\n",
        "# 劇情介紹:<span id='story'>XXX</p></span>\n",
        "# 上映日期:<span>上映日期：XXXX</span>\n",
        "\n"
      ],
      "execution_count": null,
      "outputs": []
    }
  ]
}